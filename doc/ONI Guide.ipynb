{
 "cells": [
  {
   "cell_type": "markdown",
   "metadata": {},
   "source": [
    "# Balancing Builds in Oxygen Not Included\n",
    "\n",
    "One of the aspects I find most engaging about [Oxygen Not Included](https://www.klei.com/games/oxygen-not-included)\n",
    "is the challenge of assembling balanced systems -- sets of machines that consume and produce resources at sustainable levels. This can be surprisingly subtle, with systems that *look* sustainable for hours of gameplay, but which slowly leak heat or leach non-sustainable resources. Having these problems creep up on you is a strange combination of fun and infuriating. \n",
    "\n",
    "The `oni` python library keeps track of the resources produced and consumed by various machines, and can compute what systems look like in **steady state**, where inputs and outputs are balanced. \n",
    "\n",
    "Because why shouldn't playing a videogame feel like doing your taxes?"
   ]
  },
  {
   "cell_type": "markdown",
   "metadata": {},
   "source": [
    "Run or edit a live version of this notebook at Binder\n",
    "\n",
    "[![Binder](https://mybinder.org/badge_logo.svg)](https://mybinder.org/v2/gh/ChrisBeaumont/oni/master?filepath=doc%2FONI%20Guide.ipynb)"
   ]
  },
  {
   "cell_type": "markdown",
   "metadata": {},
   "source": [
    "# Machines and Resources \n",
    "\n",
    "### Let's build a lightbulb\n",
    "\n",
    "![image](data:image/png;base64,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)\n"
   ]
  },
  {
   "cell_type": "code",
   "execution_count": 1,
   "metadata": {},
   "outputs": [],
   "source": [
    "from oni import *"
   ]
  },
  {
   "cell_type": "code",
   "execution_count": 2,
   "metadata": {},
   "outputs": [],
   "source": [
    "light = CeilingLight()"
   ]
  },
  {
   "cell_type": "markdown",
   "metadata": {},
   "source": [
    "The `oni` library has a big collection of **machines** and **resources**. `CeilingLight` is a machine -- the key feature of a machine is that it needs and gives resources:"
   ]
  },
  {
   "cell_type": "code",
   "execution_count": 3,
   "metadata": {},
   "outputs": [
    {
     "data": {
      "text/plain": [
       "{Power: 10}"
      ]
     },
     "execution_count": 3,
     "metadata": {},
     "output_type": "execute_result"
    }
   ],
   "source": [
    "light.needs()"
   ]
  },
  {
   "cell_type": "code",
   "execution_count": 4,
   "metadata": {},
   "outputs": [
    {
     "data": {
      "text/plain": [
       "{Heat: 500}"
      ]
     },
     "execution_count": 4,
     "metadata": {},
     "output_type": "execute_result"
    }
   ],
   "source": [
    "light.gives()"
   ]
  },
  {
   "cell_type": "markdown",
   "metadata": {},
   "source": [
    "`Power` and `Heat` are resources. To run 100% of the time, a light needs 10 units of power every second (Watts), and produces 500 units (DTUs) of heat. While it also has other effects (like, it lights stuff up), we'll only focus on\n",
    "the consumable resources that flow in and out of machines. \n",
    "\n",
    "Note that *anything* that needs and gives resources is considered a machine -- this includes things like Duplicants (needs Oxygen and Food, gives CO2), Critters, and Plants.\n",
    "\n",
    "We can combine several machines together to build a `System`. Let's plug our lightbulb into a manual generator:"
   ]
  },
  {
   "cell_type": "code",
   "execution_count": 5,
   "metadata": {},
   "outputs": [],
   "source": [
    "system = CeilingLight() + ManualGenerator()"
   ]
  },
  {
   "cell_type": "markdown",
   "metadata": {},
   "source": [
    "A system also gives and needs resources, equal to the sum of its machines:"
   ]
  },
  {
   "cell_type": "code",
   "execution_count": 6,
   "metadata": {},
   "outputs": [
    {
     "data": {
      "text/plain": [
       "{Power: 10}"
      ]
     },
     "execution_count": 6,
     "metadata": {},
     "output_type": "execute_result"
    }
   ],
   "source": [
    "system.needs()"
   ]
  },
  {
   "cell_type": "code",
   "execution_count": 7,
   "metadata": {},
   "outputs": [
    {
     "data": {
      "text/plain": [
       "{Heat: 1500, Power: 400}"
      ]
     },
     "execution_count": 7,
     "metadata": {},
     "output_type": "execute_result"
    }
   ],
   "source": [
    "system.gives()"
   ]
  },
  {
   "cell_type": "markdown",
   "metadata": {},
   "source": [
    "Note that our system gives more power than it needs, meaning we don't need to run our generator full-time to keep the lights on. The `balance` method is our workhorse for thinking through scenarios like this. By default, `balance` will  run each machine as much as it can, as long as the system gives at least as much as it needs:"
   ]
  },
  {
   "cell_type": "code",
   "execution_count": 8,
   "metadata": {},
   "outputs": [
    {
     "name": "stdout",
     "output_type": "stream",
     "text": [
      "[0] CeilingLight [100.0% Uptime]\n",
      "[1] ManualGenerator [100.0% Uptime]\n"
     ]
    }
   ],
   "source": [
    "system.balance()\n",
    "print(system)"
   ]
  },
  {
   "cell_type": "code",
   "execution_count": 9,
   "metadata": {},
   "outputs": [
    {
     "data": {
      "text/plain": [
       "OrderedDict([(Heat, 1500.0), (Power, 390.0)])"
      ]
     },
     "execution_count": 9,
     "metadata": {},
     "output_type": "execute_result"
    }
   ],
   "source": [
    "system.net_output()"
   ]
  },
  {
   "cell_type": "markdown",
   "metadata": {},
   "source": [
    "Running both machines at 100% capacity leads to an excess 390W of power, and 1500 DTU/s of heat. Alternatively, we can tell `balance` to neutralize certain resources, which will scale systems to prevent over-production of that resource. For example, we only need to run the generator 2.5% of the time to generate all of our power needs (assuming we store that energy for later consumption, say in a battery):"
   ]
  },
  {
   "cell_type": "code",
   "execution_count": 10,
   "metadata": {},
   "outputs": [
    {
     "name": "stdout",
     "output_type": "stream",
     "text": [
      "[0] CeilingLight [100.0% Uptime]\n",
      "[1] ManualGenerator [2.5% Uptime]\n"
     ]
    }
   ],
   "source": [
    "print(system.balance(neutralize=Power))"
   ]
  },
  {
   "cell_type": "code",
   "execution_count": 11,
   "metadata": {},
   "outputs": [
    {
     "data": {
      "text/plain": [
       "OrderedDict([(Heat, 525.0)])"
      ]
     },
     "execution_count": 11,
     "metadata": {},
     "output_type": "execute_result"
    }
   ],
   "source": [
    "system.net_output()"
   ]
  },
  {
   "cell_type": "markdown",
   "metadata": {},
   "source": [
    "We'll run into a problem if we try to neutralize heat as well -- none of our machines consume heat, so the only neutral system is one which never runs!"
   ]
  },
  {
   "cell_type": "code",
   "execution_count": 12,
   "metadata": {},
   "outputs": [
    {
     "name": "stdout",
     "output_type": "stream",
     "text": [
      "[0] CeilingLight [0.0% Uptime]\n",
      "[1] ManualGenerator [0.0% Uptime]\n"
     ]
    }
   ],
   "source": [
    "print(system.balance(neutralize=[Power, Heat]))"
   ]
  },
  {
   "cell_type": "markdown",
   "metadata": {},
   "source": [
    "We can fix this by adding a heat deletion machine -- say a WheezeWort:"
   ]
  },
  {
   "cell_type": "code",
   "execution_count": 13,
   "metadata": {},
   "outputs": [
    {
     "name": "stdout",
     "output_type": "stream",
     "text": [
      "[0] CeilingLight [100.0% Uptime]\n",
      "[1] ManualGenerator [2.5% Uptime]\n",
      "[2] WheezeWort [0.4% Uptime]\n"
     ]
    }
   ],
   "source": [
    "print((system + WheezeWort()).balance(neutralize=[Heat, Power]))"
   ]
  },
  {
   "cell_type": "markdown",
   "metadata": {},
   "source": [
    "Or a catch-all \"Sink\" (which isn't a real machine in the game, but just something you can use for bookkeeping)"
   ]
  },
  {
   "cell_type": "code",
   "execution_count": 14,
   "metadata": {},
   "outputs": [
    {
     "name": "stdout",
     "output_type": "stream",
     "text": [
      "[0] CeilingLight [100.0% Uptime]\n",
      "[1] ManualGenerator [2.5% Uptime]\n",
      "[2] Sink(Heat, 700) [75.0% Uptime]\n"
     ]
    }
   ],
   "source": [
    "print((system + Sink(Heat, 700)).balance(neutralize='all'))  # 'all' will balance every resource of the system"
   ]
  },
  {
   "cell_type": "markdown",
   "metadata": {},
   "source": [
    "Note that, if your system needs more than it gives of some resource, your machines will be throttled even without neutralizing anything:"
   ]
  },
  {
   "cell_type": "code",
   "execution_count": 15,
   "metadata": {},
   "outputs": [
    {
     "name": "stdout",
     "output_type": "stream",
     "text": [
      "[0] 50x CeilingLight [80.0% Uptime]\n",
      "[1] ManualGenerator [100.0% Uptime]\n"
     ]
    }
   ],
   "source": [
    "too_many_lights = 50 * CeilingLight() + ManualGenerator()\n",
    "too_many_lights.balance()\n",
    "print(too_many_lights)"
   ]
  },
  {
   "cell_type": "markdown",
   "metadata": {},
   "source": [
    "In some circumstances, <100% uptime is fine (like a generator not running more than needed). In other cases, it's catastrophic:"
   ]
  },
  {
   "cell_type": "code",
   "execution_count": 16,
   "metadata": {},
   "outputs": [
    {
     "name": "stdout",
     "output_type": "stream",
     "text": [
      "[0] 10x Duplicant [60.0% Uptime]\n",
      "[1] Source(Oxygen, 1) [60.0% Uptime]\n",
      "[2] Source(Food, 10) [100.0% Uptime]\n",
      "[3] Sink(CarbonDioxide, 0.05) [24.0% Uptime]\n"
     ]
    }
   ],
   "source": [
    "colony = (\n",
    "    10 * Duplicant()           # These 'machines' need food and oxygen, and give CO2\n",
    "    + Source(Oxygen, 1)        # Plenty of oxygen\n",
    "    + Source(Food, 10)         # Not enough food for 10 dupes!\n",
    "    + Sink(CarbonDioxide, .05) # Magically dispose of CO2\n",
    ")\n",
    "\n",
    "print(colony.balance(neutralize='all'))"
   ]
  },
  {
   "cell_type": "markdown",
   "metadata": {},
   "source": [
    "For a duplicant, anything <100% uptime means death! In this case, our food is a bottleneck, and can only sustain 60% of our duplicants."
   ]
  },
  {
   "cell_type": "markdown",
   "metadata": {},
   "source": [
    "## More Details"
   ]
  },
  {
   "cell_type": "markdown",
   "metadata": {},
   "source": [
    "Here's a full list of machines and resources:"
   ]
  },
  {
   "cell_type": "code",
   "execution_count": 17,
   "metadata": {},
   "outputs": [
    {
     "data": {
      "text/plain": [
       "[oni.machine.AlgaeDistiller,\n",
       " oni.machine.AlgaeTerrarium,\n",
       " oni.machine.ArcadeCabinet,\n",
       " oni.machine.BarbequeGrill,\n",
       " oni.machine.CarbonDioxidePump,\n",
       " oni.machine.CarbonDioxideVent,\n",
       " oni.machine.CarbonGasPump,\n",
       " oni.machine.CarbonGasVent,\n",
       " oni.machine.CarbonSkimmer,\n",
       " oni.machine.CeilingLight,\n",
       " oni.machine.CeramicCarbonKiln,\n",
       " oni.machine.ChlorinePump,\n",
       " oni.machine.ChlorineVent,\n",
       " oni.machine.CoalGenerator,\n",
       " oni.machine.Compost,\n",
       " oni.machine.ContaminatedOxygenPump,\n",
       " oni.machine.ContaminatedOxygenVent,\n",
       " oni.machine.CopperGasPump,\n",
       " oni.machine.CopperGasVent,\n",
       " oni.machine.CopperRefinery,\n",
       " oni.machine.CrudeOilPump,\n",
       " oni.machine.CrudeOilVent,\n",
       " oni.machine.DirtyWaterPump,\n",
       " oni.machine.DirtyWaterVent,\n",
       " oni.machine.Duplicant,\n",
       " oni.machine.EggCracker,\n",
       " oni.machine.Electrolyzer,\n",
       " oni.machine.EspressoMachine,\n",
       " oni.machine.FarmedBristleBlossom,\n",
       " oni.machine.FarmedDuskCap,\n",
       " oni.machine.FarmedMealwood,\n",
       " oni.machine.FarmedPinchaPepper,\n",
       " oni.machine.FarmedSleetWheat,\n",
       " oni.machine.FertilizerSynthesizer,\n",
       " oni.machine.FriedMushroomGrill,\n",
       " oni.machine.FrostBunGrill,\n",
       " oni.machine.GasElementSensor,\n",
       " oni.machine.GasFilter,\n",
       " oni.machine.GasShutoff,\n",
       " oni.machine.GoldGasPump,\n",
       " oni.machine.GoldGasVent,\n",
       " oni.machine.GoldRefinery,\n",
       " oni.machine.GristleBerryGrill,\n",
       " oni.machine.HeliumPump,\n",
       " oni.machine.HeliumVent,\n",
       " oni.machine.HydrogenGenerator,\n",
       " oni.machine.HydrogenPump,\n",
       " oni.machine.HydrogenVent,\n",
       " oni.machine.IceEFan,\n",
       " oni.machine.IceMaker,\n",
       " oni.machine.Incubator,\n",
       " oni.machine.IronGasPump,\n",
       " oni.machine.IronGasVent,\n",
       " oni.machine.IronRefinery,\n",
       " oni.machine.Jukebox,\n",
       " oni.machine.Lamp,\n",
       " oni.machine.LargePowerTransformer,\n",
       " oni.machine.LiquidCarbonDioxidePump,\n",
       " oni.machine.LiquidCarbonDioxideVent,\n",
       " oni.machine.LiquidChlorinePump,\n",
       " oni.machine.LiquidChlorineVent,\n",
       " oni.machine.LiquidFilter,\n",
       " oni.machine.LiquidHeliumPump,\n",
       " oni.machine.LiquidHeliumVent,\n",
       " oni.machine.LiquidHydrogenPump,\n",
       " oni.machine.LiquidHydrogenVent,\n",
       " oni.machine.LiquidMethanePump,\n",
       " oni.machine.LiquidMethaneVent,\n",
       " oni.machine.LiquidOxygenPump,\n",
       " oni.machine.LiquidOxygenVent,\n",
       " oni.machine.LiquidPhosphorusPump,\n",
       " oni.machine.LiquidPhosphorusVent,\n",
       " oni.machine.LiquidPropanePump,\n",
       " oni.machine.LiquidPropaneVent,\n",
       " oni.machine.LiquidShutoff,\n",
       " oni.machine.LiquidTepidizer,\n",
       " oni.machine.MagmaPump,\n",
       " oni.machine.MagmaVent,\n",
       " oni.machine.ManualGenerator,\n",
       " oni.machine.MercuryGasPump,\n",
       " oni.machine.MercuryGasVent,\n",
       " oni.machine.MercuryPump,\n",
       " oni.machine.MercuryVent,\n",
       " oni.machine.MethanePump,\n",
       " oni.machine.MethaneVent,\n",
       " oni.machine.MiniCarbonDioxidePump,\n",
       " oni.machine.MiniCarbonGasPump,\n",
       " oni.machine.MiniChlorinePump,\n",
       " oni.machine.MiniContaminatedOxygenPump,\n",
       " oni.machine.MiniCopperGasPump,\n",
       " oni.machine.MiniCrudeOilPump,\n",
       " oni.machine.MiniDirtyWaterPump,\n",
       " oni.machine.MiniGoldGasPump,\n",
       " oni.machine.MiniHeliumPump,\n",
       " oni.machine.MiniHydrogenPump,\n",
       " oni.machine.MiniIronGasPump,\n",
       " oni.machine.MiniLiquidCarbonDioxidePump,\n",
       " oni.machine.MiniLiquidChlorinePump,\n",
       " oni.machine.MiniLiquidHeliumPump,\n",
       " oni.machine.MiniLiquidHydrogenPump,\n",
       " oni.machine.MiniLiquidMethanePump,\n",
       " oni.machine.MiniLiquidOxygenPump,\n",
       " oni.machine.MiniLiquidPhosphorusPump,\n",
       " oni.machine.MiniLiquidPropanePump,\n",
       " oni.machine.MiniMagmaPump,\n",
       " oni.machine.MiniMercuryGasPump,\n",
       " oni.machine.MiniMercuryPump,\n",
       " oni.machine.MiniMethanePump,\n",
       " oni.machine.MiniMoltenCarbonPump,\n",
       " oni.machine.MiniMoltenCopperPump,\n",
       " oni.machine.MiniMoltenGlassPump,\n",
       " oni.machine.MiniMoltenGoldPump,\n",
       " oni.machine.MiniMoltenIronPump,\n",
       " oni.machine.MiniMoltenSteelPump,\n",
       " oni.machine.MiniMoltenTungstenPump,\n",
       " oni.machine.MiniNaphthaPump,\n",
       " oni.machine.MiniNaturalGasPump,\n",
       " oni.machine.MiniOxygenPump,\n",
       " oni.machine.MiniPetroleumPump,\n",
       " oni.machine.MiniPhosphorusGasPump,\n",
       " oni.machine.MiniPropanePump,\n",
       " oni.machine.MiniRockGasPump,\n",
       " oni.machine.MiniSteamPump,\n",
       " oni.machine.MiniSteelGasPump,\n",
       " oni.machine.MiniTungstenGasPump,\n",
       " oni.machine.MiniWaterPump,\n",
       " oni.machine.MoltenCarbonPump,\n",
       " oni.machine.MoltenCarbonVent,\n",
       " oni.machine.MoltenCopperPump,\n",
       " oni.machine.MoltenCopperVent,\n",
       " oni.machine.MoltenGlassPump,\n",
       " oni.machine.MoltenGlassVent,\n",
       " oni.machine.MoltenGoldPump,\n",
       " oni.machine.MoltenGoldVent,\n",
       " oni.machine.MoltenIronPump,\n",
       " oni.machine.MoltenIronVent,\n",
       " oni.machine.MoltenSteelPump,\n",
       " oni.machine.MoltenSteelVent,\n",
       " oni.machine.MoltenTungstenPump,\n",
       " oni.machine.MoltenTungstenVent,\n",
       " oni.machine.MushFryGrill,\n",
       " oni.machine.NaphthaPump,\n",
       " oni.machine.NaphthaVent,\n",
       " oni.machine.NaturalGasGenerator,\n",
       " oni.machine.NaturalGasPump,\n",
       " oni.machine.NaturalGasVent,\n",
       " oni.machine.Nullifier,\n",
       " oni.machine.OilRefinery,\n",
       " oni.machine.OilWell,\n",
       " oni.machine.OmeletteGrill,\n",
       " oni.machine.OxygenDiffuser,\n",
       " oni.machine.OxygenPump,\n",
       " oni.machine.OxygenVent,\n",
       " oni.machine.OxyliteRefinery,\n",
       " oni.machine.PepperBreadGrill,\n",
       " oni.machine.PetroleumGenerator,\n",
       " oni.machine.PetroleumPump,\n",
       " oni.machine.PetroleumVent,\n",
       " oni.machine.PhosphorusGasPump,\n",
       " oni.machine.PhosphorusGasVent,\n",
       " oni.machine.PickledMealGrill,\n",
       " oni.machine.PolymerPress,\n",
       " oni.machine.PowerTransformer,\n",
       " oni.machine.PropanePump,\n",
       " oni.machine.PropaneVent,\n",
       " oni.machine.RefinedCarbonKiln,\n",
       " oni.machine.Refrigerator,\n",
       " oni.machine.RockGasPump,\n",
       " oni.machine.RockGasVent,\n",
       " oni.machine.Sink,\n",
       " oni.machine.Slickster,\n",
       " oni.machine.SmartBattery,\n",
       " oni.machine.SolarPanel,\n",
       " oni.machine.Source,\n",
       " oni.machine.SpaceScanner,\n",
       " oni.machine.SteamPump,\n",
       " oni.machine.SteamVent,\n",
       " oni.machine.SteelGasPump,\n",
       " oni.machine.SteelGasVent,\n",
       " oni.machine.SteelRefinery,\n",
       " oni.machine.StoneHatch,\n",
       " oni.machine.StuffedBerryGrill,\n",
       " oni.machine.ThermoAquatuner,\n",
       " oni.machine.TungstenGasPump,\n",
       " oni.machine.TungstenGasVent,\n",
       " oni.machine.TungstenRefinery,\n",
       " oni.machine.WaterPump,\n",
       " oni.machine.WaterSieve,\n",
       " oni.machine.WaterVent,\n",
       " oni.machine.WheezeWort,\n",
       " oni.machine.WildBristleBlossom,\n",
       " oni.machine.WildDuskCap,\n",
       " oni.machine.WildMealwood,\n",
       " oni.machine.WildPinchaPepper,\n",
       " oni.machine.WildSleetWheat]"
      ]
     },
     "execution_count": 17,
     "metadata": {},
     "output_type": "execute_result"
    }
   ],
   "source": [
    "all_machines()"
   ]
  },
  {
   "cell_type": "code",
   "execution_count": 18,
   "metadata": {},
   "outputs": [
    {
     "data": {
      "text/plain": [
       "[Algae,\n",
       " BristleBerry,\n",
       " CarbonDioxide,\n",
       " CarbonGas,\n",
       " Ceramic,\n",
       " Chlorine,\n",
       " Clay,\n",
       " Coal,\n",
       " ContaminatedOxygen,\n",
       " Copper,\n",
       " CopperGas,\n",
       " CopperOre,\n",
       " CrudeOil,\n",
       " Dirt,\n",
       " DirtyWater,\n",
       " Egg,\n",
       " EggShell,\n",
       " Fertilizer,\n",
       " Food,\n",
       " Gold,\n",
       " GoldAmalgam,\n",
       " GoldGas,\n",
       " Heat,\n",
       " Helium,\n",
       " Hydrogen,\n",
       " Ice,\n",
       " IgneousRock,\n",
       " Iron,\n",
       " IronGas,\n",
       " IronOre,\n",
       " Lime,\n",
       " LiquidCarbonDioxide,\n",
       " LiquidChlorine,\n",
       " LiquidHelium,\n",
       " LiquidHydrogen,\n",
       " LiquidMethane,\n",
       " LiquidOxygen,\n",
       " LiquidPhosphorus,\n",
       " LiquidPropane,\n",
       " Magma,\n",
       " MealLice,\n",
       " Meat,\n",
       " Mercury,\n",
       " MercuryGas,\n",
       " Methane,\n",
       " MoltenCarbon,\n",
       " MoltenCopper,\n",
       " MoltenGlass,\n",
       " MoltenGold,\n",
       " MoltenIron,\n",
       " MoltenSteel,\n",
       " MoltenTungsten,\n",
       " MushBar,\n",
       " Mushroom,\n",
       " Naphtha,\n",
       " NaturalGas,\n",
       " Oxygen,\n",
       " Oxylite,\n",
       " Petroleum,\n",
       " Phosphorite,\n",
       " PhosphorusGas,\n",
       " PinchaPeppernut,\n",
       " PipedCarbonDioxide,\n",
       " PipedCarbonGas,\n",
       " PipedChlorine,\n",
       " PipedContaminatedOxygen,\n",
       " PipedCopperGas,\n",
       " PipedCrudeOil,\n",
       " PipedDirtyWater,\n",
       " PipedGoldGas,\n",
       " PipedHelium,\n",
       " PipedHydrogen,\n",
       " PipedIronGas,\n",
       " PipedLiquidCarbonDioxide,\n",
       " PipedLiquidChlorine,\n",
       " PipedLiquidHelium,\n",
       " PipedLiquidHydrogen,\n",
       " PipedLiquidMethane,\n",
       " PipedLiquidOxygen,\n",
       " PipedLiquidPhosphorus,\n",
       " PipedLiquidPropane,\n",
       " PipedMagma,\n",
       " PipedMercury,\n",
       " PipedMercuryGas,\n",
       " PipedMethane,\n",
       " PipedMoltenCarbon,\n",
       " PipedMoltenCopper,\n",
       " PipedMoltenGlass,\n",
       " PipedMoltenGold,\n",
       " PipedMoltenIron,\n",
       " PipedMoltenSteel,\n",
       " PipedMoltenTungsten,\n",
       " PipedNaphtha,\n",
       " PipedNaturalGas,\n",
       " PipedOxygen,\n",
       " PipedPetroleum,\n",
       " PipedPhosphorusGas,\n",
       " PipedPollutedWater,\n",
       " PipedPropane,\n",
       " PipedRockGas,\n",
       " PipedSteam,\n",
       " PipedSteelGas,\n",
       " PipedTungstenGas,\n",
       " PipedWater,\n",
       " Plastic,\n",
       " PollutedDirt,\n",
       " PollutedWater,\n",
       " Power,\n",
       " Propane,\n",
       " RawEgg,\n",
       " RefinedCarbon,\n",
       " RockGas,\n",
       " Sand,\n",
       " SleetWheatGrain,\n",
       " Slime,\n",
       " Steam,\n",
       " Steel,\n",
       " SteelGas,\n",
       " Tungsten,\n",
       " TungstenGas,\n",
       " Water,\n",
       " Wolframite]"
      ]
     },
     "execution_count": 18,
     "metadata": {},
     "output_type": "execute_result"
    }
   ],
   "source": [
    "all_resources()"
   ]
  },
  {
   "cell_type": "markdown",
   "metadata": {},
   "source": [
    "`oni` makes varous assumptions about the production and consumption of different systems (for example, that the StoneHatch consumes only Igneous Rock, and that it's metabolism matches that of a tamed and happy critter). Likewise, not all machines in the game are included currently. To work around this, it's easy to define your own machines with custom properties:"
   ]
  },
  {
   "cell_type": "code",
   "execution_count": 19,
   "metadata": {},
   "outputs": [],
   "source": [
    "GlumStoneHatch = create_machine('GlumStoneHatch', needs={IgneousRock: 0.04667}, gives={Coal: 0.02333})"
   ]
  },
  {
   "cell_type": "markdown",
   "metadata": {},
   "source": [
    "### Imputing"
   ]
  },
  {
   "cell_type": "markdown",
   "metadata": {},
   "source": [
    "In many situations youre are interested in the balance of a particular resource of a system (say, Power) and are uninterested in others (say, Heat). The typical way to deal with these \"nuissance\" resources is to add sources and \n",
    "sinks for them. The `impute` method help with this -- it will create a new system with sources for any resource needed but not given by the current system, and Sinks for resources given but not needed. Returning to our lightbulb example that cannot be fully neutralized without a heat sink:"
   ]
  },
  {
   "cell_type": "code",
   "execution_count": 20,
   "metadata": {},
   "outputs": [
    {
     "name": "stdout",
     "output_type": "stream",
     "text": [
      "[0] CeilingLight [0.0% Uptime]\n",
      "[1] ManualGenerator [0.0% Uptime]\n"
     ]
    }
   ],
   "source": [
    "s = CeilingLight() + ManualGenerator()\n",
    "print(s.balance(neutralize='all'))"
   ]
  },
  {
   "cell_type": "code",
   "execution_count": 21,
   "metadata": {},
   "outputs": [
    {
     "name": "stdout",
     "output_type": "stream",
     "text": [
      "[0] CeilingLight [100.0% Uptime]\n",
      "[1] ManualGenerator [2.5% Uptime]\n",
      "[2] Sink(Heat, 1500) [35.0% Uptime]\n"
     ]
    }
   ],
   "source": [
    "print(s.impute().balance(neutralize='all'))"
   ]
  },
  {
   "cell_type": "markdown",
   "metadata": {},
   "source": [
    "# Example Systems"
   ]
  },
  {
   "cell_type": "markdown",
   "metadata": {},
   "source": [
    "### What kind of Stone Hatch ranch supports a colony of 10 duplicants?"
   ]
  },
  {
   "cell_type": "code",
   "execution_count": 22,
   "metadata": {},
   "outputs": [
    {
     "name": "stdout",
     "output_type": "stream",
     "text": [
      "[0] 10x Duplicant [100.0% Uptime]\n",
      "[1] 20x StoneHatch [100.0% Uptime]\n",
      "[2] Source(Oxygen, 10) [100.0% Uptime]\n",
      "[3] Source(IgneousRock, 5) [100.0% Uptime]\n",
      "[4] EggCracker [0.6% Uptime]\n",
      "[5] Source(Power, 60) [100.0% Uptime]\n",
      "[6] OmeletteGrill [0.6% Uptime]\n",
      "[7] BarbequeGrill [0.0% Uptime]\n",
      "[8] 2x WildPinchaPepper [100.0% Uptime]\n"
     ]
    }
   ],
   "source": [
    "s = (\n",
    "    10 * Duplicant()\n",
    "    + 20 * StoneHatch()      # Assumes happy and tame stone hatches eating Igneous Rock\n",
    "    + Source(Oxygen, 10)     # For the dupes\n",
    "    + Source(IgneousRock, 5) # 5 kg/s for the hatches\n",
    "    + EggCracker()           # Crack the eggs!\n",
    "    + Source(Power, 60)      # For the grill\n",
    "    + OmeletteGrill()        # Eggs to Omelettes!\n",
    "    + BarbequeGrill()        # BBQ when hatches die!!\n",
    "    + 2 * WildPinchaPepper() # Rely on one wild Pincha Pepper plant for BBQ\n",
    ")\n",
    "print(s.balance())"
   ]
  },
  {
   "cell_type": "markdown",
   "metadata": {},
   "source": [
    "## What kind of coal power does that ranch sustain?"
   ]
  },
  {
   "cell_type": "code",
   "execution_count": 23,
   "metadata": {},
   "outputs": [
    {
     "name": "stdout",
     "output_type": "stream",
     "text": [
      "[0] 20x StoneHatch [100.0% Uptime]\n",
      "[1] Source(IgneousRock, 5) [100.0% Uptime]\n",
      "[2] 10x CoalGenerator [23.4% Uptime]\n"
     ]
    }
   ],
   "source": [
    "system = (\n",
    "    20 * StoneHatch()\n",
    "    + Source(IgneousRock, 5)  # FEED THEM\n",
    "    + 10 * CoalGenerator()\n",
    ")\n",
    "print(system.balance())"
   ]
  },
  {
   "cell_type": "code",
   "execution_count": 24,
   "metadata": {},
   "outputs": [
    {
     "data": {
      "text/plain": [
       "1404.0000000000005"
      ]
     },
     "execution_count": 24,
     "metadata": {},
     "output_type": "execute_result"
    }
   ],
   "source": [
    "system.gives()[Power]"
   ]
  },
  {
   "cell_type": "markdown",
   "metadata": {},
   "source": [
    "20 Stone Hatches produce enough coal to sustain 1.4 kw of energy generation from coal "
   ]
  },
  {
   "cell_type": "markdown",
   "metadata": {},
   "source": [
    "# Let's make a SPOM (Self Powered Oxygen Machine)!"
   ]
  },
  {
   "cell_type": "code",
   "execution_count": 25,
   "metadata": {},
   "outputs": [
    {
     "name": "stdout",
     "output_type": "stream",
     "text": [
      "[0] Source(Water, 10) [22.5% Uptime]\n",
      "[1] WaterPump [22.5% Uptime]\n",
      "[2] 3x Electrolyzer [75.1% Uptime]\n",
      "[3] 4x OxygenPump [100.0% Uptime]\n",
      "[4] 1x HydrogenPump [34.2% Uptime]\n",
      "[5] 2x HydrogenGenerator [85.4% Uptime]\n",
      "[6] Sink(Hydrogen, 1) [8.1% Uptime]\n",
      "[7] Sink(PipedOxygen, 2) [100.0% Uptime]\n",
      "[8] Sink(Heat, 500000) [21.9% Uptime]\n"
     ]
    }
   ],
   "source": [
    "spom = (\n",
    "\n",
    "    Source(Water, 10)\n",
    "    + WaterPump()  # Turns 10 kg/s of Water into 10kg/s of PipedWater\n",
    "    + 3 * Electrolyzer()  # Electrolyzer heat output assumes you will cool the oxygen 50 degrees\n",
    "    + 4 * OxygenPump()  # Enough to fill 2 pipes at full capacity\n",
    "    + 1 * HydrogenPump()\n",
    "    + 2 * HydrogenGenerator()\n",
    "    + Sink(Hydrogen, 1)\n",
    "    + Sink(PipedOxygen, 2) \n",
    "    + Sink(Heat, 500000)\n",
    "    \n",
    ")\n",
    "\n",
    "print(spom.balance(neutralize='all'))"
   ]
  },
  {
   "cell_type": "markdown",
   "metadata": {},
   "source": [
    "The system is balanced+neutralized, and the 3 sinks tell us how much net Hydrogen, Oxygen, and Heat we produce:"
   ]
  },
  {
   "cell_type": "code",
   "execution_count": 26,
   "metadata": {},
   "outputs": [
    {
     "data": {
      "text/plain": [
       "({Hydrogen: 0.08146444316657078},\n",
       " {PipedOxygen: 2.0},\n",
       " {Heat: 109281.9628138777})"
      ]
     },
     "execution_count": 26,
     "metadata": {},
     "output_type": "execute_result"
    }
   ],
   "source": [
    "spom[6].needs(), spom[7].needs(), spom[8].needs()"
   ]
  },
  {
   "cell_type": "markdown",
   "metadata": {},
   "source": [
    "Note that, to cool all of that oxygen down, we'd need at least 2 AETNs"
   ]
  },
  {
   "cell_type": "code",
   "execution_count": 27,
   "metadata": {},
   "outputs": [
    {
     "data": {
      "text/plain": [
       "{Heat: -80000, Hydrogen: 0.01}"
      ]
     },
     "execution_count": 27,
     "metadata": {},
     "output_type": "execute_result"
    }
   ],
   "source": [
    "Nullifier().needs()"
   ]
  },
  {
   "cell_type": "markdown",
   "metadata": {},
   "source": [
    "# Example Sustainable Colony"
   ]
  },
  {
   "cell_type": "code",
   "execution_count": 28,
   "metadata": {},
   "outputs": [
    {
     "name": "stdout",
     "output_type": "stream",
     "text": [
      "[0] 15x Duplicant [100.0% Uptime]\n",
      "[1] 30x Slickster [100.0% Uptime]\n",
      "[2] 2x WildPinchaPepper [100.0% Uptime]\n",
      "[3] EggCracker [0.8% Uptime]\n",
      "[4] OmeletteGrill [0.8% Uptime]\n",
      "[5] BarbequeGrill [0.0% Uptime]\n",
      "[6] 2x OilWell [100.0% Uptime]\n",
      "[7] CrudeOilPump [71.6% Uptime]\n",
      "[8] 2x NaturalGasPump [53.1% Uptime]\n",
      "[9] OilRefinery [71.6% Uptime]\n",
      "[10] 2x PetroleumGenerator [89.5% Uptime]\n",
      "[11] 6x NaturalGasGenerator [98.4% Uptime]\n",
      "[12] CarbonDioxideVent [26.6% Uptime]\n",
      "[13] WaterPump [50.0% Uptime]\n",
      "[14] 3x Electrolyzer [100.0% Uptime]\n",
      "[15] 4x OxygenPump [0.0% Uptime]\n",
      "[16] 1x HydrogenPump [40.0% Uptime]\n",
      "[17] 2x HydrogenGenerator [100.0% Uptime]\n",
      "[18] Source(Water, 5) [100.0% Uptime]\n",
      "[19] Source(NaturalGas, 0.4) [100.0% Uptime]\n"
     ]
    }
   ],
   "source": [
    "geysers = (\n",
    "    Source(Water, 5)  \n",
    "    + Source(NaturalGas, 0.4)\n",
    ")\n",
    "\n",
    "oxygen = (\n",
    "    WaterPump()  \n",
    "    + 3 * Electrolyzer()  \n",
    "    + 4 * OxygenPump()  \n",
    "    + 1 * HydrogenPump()\n",
    "    + 2 * HydrogenGenerator()    \n",
    ")\n",
    "\n",
    "industry = (\n",
    "    + 2 * OilWell() \n",
    "    + CrudeOilPump()\n",
    "    + 2 * NaturalGasPump()\n",
    "    + OilRefinery()\n",
    "    + 2 * PetroleumGenerator()\n",
    "    + 6 * NaturalGasGenerator()\n",
    "    + CarbonDioxideVent()\n",
    "\n",
    ")\n",
    "\n",
    "food = (\n",
    "    EggCracker()\n",
    "    + OmeletteGrill()\n",
    "    + BarbequeGrill()\n",
    ")\n",
    "\n",
    "life = (\n",
    "    15 * Duplicant()\n",
    "    + 30 * Slickster()\n",
    "    + 2 * WildPinchaPepper()\n",
    ")\n",
    "\n",
    "colony = (\n",
    "    life\n",
    "    + food\n",
    "    + industry\n",
    "    + oxygen\n",
    "    + geysers    \n",
    ")\n",
    "\n",
    "print(colony.balance(neutralize=[PipedNaturalGas, PipedWater, PipedHydrogen, PipedOxygen, Food]))"
   ]
  },
  {
   "cell_type": "code",
   "execution_count": 29,
   "metadata": {},
   "outputs": [
    {
     "data": {
      "text/plain": [
       "OrderedDict([(Heat, 248307.1948611079),\n",
       "             (Power, 8553.96640688893),\n",
       "             (Oxygen, 1.1639999999999997),\n",
       "             (PollutedWater, 0.53257755),\n",
       "             (Hydrogen, 0.1359999999999999),\n",
       "             (CarbonDioxide, 0.057887725000000056),\n",
       "             (EggShell, 0.008333333331),\n",
       "             (Meat, 0.00017166665340000067),\n",
       "             (PipedOxygen, 0.0)])"
      ]
     },
     "execution_count": 29,
     "metadata": {},
     "output_type": "execute_result"
    }
   ],
   "source": [
    "colony.net_output()"
   ]
  },
  {
   "cell_type": "markdown",
   "metadata": {},
   "source": [
    "## How many wild sleet wheat plants to sustain a duplicant?"
   ]
  },
  {
   "cell_type": "code",
   "execution_count": 30,
   "metadata": {},
   "outputs": [
    {
     "name": "stdout",
     "output_type": "stream",
     "text": [
      "[0] Duplicant [100.0% Uptime]\n",
      "[1] 10x WildSleetWheat [100.0% Uptime]\n",
      "[2] 2x WildPinchaPepper [100.0% Uptime]\n",
      "[3] PepperBreadGrill [0.0% Uptime]\n",
      "[4] FrostBunGrill [0.0% Uptime]\n",
      "[5] Source(Power, 60) [100.0% Uptime]\n",
      "[6] Source(Oxygen, 0.1) [100.0% Uptime]\n"
     ]
    }
   ],
   "source": [
    "system = (\n",
    "    Duplicant()\n",
    "    + 10 * WildSleetWheat()\n",
    "    + 2 * WildPinchaPepper()\n",
    "    + PepperBreadGrill()\n",
    "    + FrostBunGrill()\n",
    "    + Source(Power, 60)    \n",
    "    + Source(Oxygen, 0.1)\n",
    ")\n",
    "print(system.balance(neutralize=(Food, PinchaPeppernut)))"
   ]
  }
 ],
 "metadata": {
  "kernelspec": {
   "display_name": "Python [conda env:anaconda3]",
   "language": "python",
   "name": "conda-env-anaconda3-py"
  },
  "language_info": {
   "codemirror_mode": {
    "name": "ipython",
    "version": 3
   },
   "file_extension": ".py",
   "mimetype": "text/x-python",
   "name": "python",
   "nbconvert_exporter": "python",
   "pygments_lexer": "ipython3",
   "version": "3.5.5"
  }
 },
 "nbformat": 4,
 "nbformat_minor": 2
}
